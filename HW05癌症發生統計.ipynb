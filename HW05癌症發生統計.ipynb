{
 "cells": [
  {
   "cell_type": "code",
   "execution_count": 1,
   "metadata": {},
   "outputs": [],
   "source": [
    "%matplotlib inline\n",
    "import numpy as np\n",
    "import matplotlib.pyplot as plt\n",
    "import pandas as pd\n",
    "import matplotlib as mpl\n",
    "mpl.rc('font', family='SimHei')"
   ]
  },
  {
   "cell_type": "markdown",
   "metadata": {},
   "source": [
    "# 癌症發生統計"
   ]
  },
  {
   "cell_type": "markdown",
   "metadata": {},
   "source": [
    "68-104年縣市別性別癌症別發生率資料\n",
    "來自：衛生福利部 國民健康署"
   ]
  },
  {
   "cell_type": "markdown",
   "metadata": {},
   "source": [
    "來自：衛生福利部 國民健康署"
   ]
  },
  {
   "cell_type": "code",
   "execution_count": 2,
   "metadata": {},
   "outputs": [
    {
     "data": {
      "text/html": [
       "<div>\n",
       "<style scoped>\n",
       "    .dataframe tbody tr th:only-of-type {\n",
       "        vertical-align: middle;\n",
       "    }\n",
       "\n",
       "    .dataframe tbody tr th {\n",
       "        vertical-align: top;\n",
       "    }\n",
       "\n",
       "    .dataframe thead th {\n",
       "        text-align: right;\n",
       "    }\n",
       "</style>\n",
       "<table border=\"1\" class=\"dataframe\">\n",
       "  <thead>\n",
       "    <tr style=\"text-align: right;\">\n",
       "      <th></th>\n",
       "      <th>癌症診斷年</th>\n",
       "      <th>性別</th>\n",
       "      <th>縣市別</th>\n",
       "      <th>癌症別</th>\n",
       "      <th>年齡標準化發生率  WHO 2000世界標準人口 (每10萬人口)</th>\n",
       "      <th>癌症發生數</th>\n",
       "      <th>平均年齡</th>\n",
       "      <th>年齡中位數</th>\n",
       "      <th>粗率 (每10萬人口)</th>\n",
       "    </tr>\n",
       "  </thead>\n",
       "  <tbody>\n",
       "    <tr>\n",
       "      <th>0</th>\n",
       "      <td>1979</td>\n",
       "      <td>不分男女</td>\n",
       "      <td>台閩地區</td>\n",
       "      <td>口腔、口咽及下咽</td>\n",
       "      <td>3.40</td>\n",
       "      <td>439</td>\n",
       "      <td>53.37</td>\n",
       "      <td>55.0</td>\n",
       "      <td>2.50</td>\n",
       "    </tr>\n",
       "    <tr>\n",
       "      <th>1</th>\n",
       "      <td>1979</td>\n",
       "      <td>不分男女</td>\n",
       "      <td>台北市</td>\n",
       "      <td>口腔、口咽及下咽</td>\n",
       "      <td>3.85</td>\n",
       "      <td>65</td>\n",
       "      <td>52.00</td>\n",
       "      <td>55.0</td>\n",
       "      <td>2.96</td>\n",
       "    </tr>\n",
       "    <tr>\n",
       "      <th>2</th>\n",
       "      <td>1979</td>\n",
       "      <td>不分男女</td>\n",
       "      <td>台中市</td>\n",
       "      <td>口腔、口咽及下咽</td>\n",
       "      <td>4.16</td>\n",
       "      <td>45</td>\n",
       "      <td>54.18</td>\n",
       "      <td>55.0</td>\n",
       "      <td>2.88</td>\n",
       "    </tr>\n",
       "    <tr>\n",
       "      <th>3</th>\n",
       "      <td>1979</td>\n",
       "      <td>不分男女</td>\n",
       "      <td>台南市</td>\n",
       "      <td>口腔、口咽及下咽</td>\n",
       "      <td>1.58</td>\n",
       "      <td>19</td>\n",
       "      <td>55.79</td>\n",
       "      <td>57.0</td>\n",
       "      <td>1.24</td>\n",
       "    </tr>\n",
       "    <tr>\n",
       "      <th>4</th>\n",
       "      <td>1979</td>\n",
       "      <td>不分男女</td>\n",
       "      <td>高雄市</td>\n",
       "      <td>口腔、口咽及下咽</td>\n",
       "      <td>2.10</td>\n",
       "      <td>32</td>\n",
       "      <td>48.56</td>\n",
       "      <td>50.0</td>\n",
       "      <td>1.49</td>\n",
       "    </tr>\n",
       "  </tbody>\n",
       "</table>\n",
       "</div>"
      ],
      "text/plain": [
       "   癌症診斷年    性別   縣市別       癌症別  年齡標準化發生率  WHO 2000世界標準人口 (每10萬人口)   癌症發生數  \\\n",
       "0   1979  不分男女  台閩地區  口腔、口咽及下咽                                3.40    439   \n",
       "1   1979  不分男女   台北市  口腔、口咽及下咽                                3.85     65   \n",
       "2   1979  不分男女   台中市  口腔、口咽及下咽                                4.16     45   \n",
       "3   1979  不分男女   台南市  口腔、口咽及下咽                                1.58     19   \n",
       "4   1979  不分男女   高雄市  口腔、口咽及下咽                                2.10     32   \n",
       "\n",
       "    平均年齡  年齡中位數  粗率 (每10萬人口)  \n",
       "0  53.37   55.0         2.50  \n",
       "1  52.00   55.0         2.96  \n",
       "2  54.18   55.0         2.88  \n",
       "3  55.79   57.0         1.24  \n",
       "4  48.56   50.0         1.49  "
      ]
     },
     "execution_count": 2,
     "metadata": {},
     "output_type": "execute_result"
    }
   ],
   "source": [
    "df = pd.read_csv('http://data.hpa.gov.tw/dataset/4930fac7-cfed-439a-83a5-b24d69ce940b/resource/31213742-29da-49fd-9565-c41791098ca4/download/68104.csv',\n",
    "                 thousands=',', encoding = 'Big5')\n",
    "df.head()"
   ]
  },
  {
   "cell_type": "markdown",
   "metadata": {},
   "source": [
    "# 台灣歷年各癌症發生率 和 WHO 人口標準化癌症發生率 繪圖"
   ]
  },
  {
   "cell_type": "code",
   "execution_count": 3,
   "metadata": {},
   "outputs": [
    {
     "data": {
      "text/plain": [
       "Text(0,0.5,'台灣癌症粗發生率(每10萬人口)')"
      ]
     },
     "execution_count": 3,
     "metadata": {},
     "output_type": "execute_result"
    },
    {
     "data": {
      "image/png": "[encoded data removed]",
      "text/plain": [
       "<Figure size 432x288 with 1 Axes>"
      ]
     },
     "metadata": {},
     "output_type": "display_data"
    }
   ],
   "source": [
    "x = np.array(df['年齡標準化發生率  WHO 2000世界標準人口 (每10萬人口) ']) #WHO 人口標準化癌症發生率(每10萬人口)\n",
    "y = np.array(df['粗率 (每10萬人口)']) #台灣癌症粗發生率(每10萬人口)\n",
    "plt.scatter(x,y)\n",
    "plt.xlabel('WHO 人口標準化癌症發生率(每10萬人口)')\n",
    "plt.ylabel('台灣癌症粗發生率(每10萬人口)')"
   ]
  },
  {
   "cell_type": "markdown",
   "metadata": {},
   "source": [
    "訓練資料"
   ]
  },
  {
   "cell_type": "code",
   "execution_count": 4,
   "metadata": {},
   "outputs": [],
   "source": [
    "from sklearn.model_selection import train_test_split\n",
    "from sklearn.linear_model import LinearRegression"
   ]
  },
  {
   "cell_type": "code",
   "execution_count": 5,
   "metadata": {},
   "outputs": [],
   "source": [
    "X = x.reshape(len(x),1)\n",
    "x_train,x_test,y_train,y_test = train_test_split(X,y,test_size=0.3, random_state=10000)"
   ]
  },
  {
   "cell_type": "code",
   "execution_count": 6,
   "metadata": {},
   "outputs": [
    {
     "data": {
      "text/plain": [
       "LinearRegression(copy_X=True, fit_intercept=True, n_jobs=1, normalize=False)"
      ]
     },
     "execution_count": 6,
     "metadata": {},
     "output_type": "execute_result"
    }
   ],
   "source": [
    "regr = LinearRegression()\n",
    "regr.fit(x_train,y_train)"
   ]
  },
  {
   "cell_type": "code",
   "execution_count": 7,
   "metadata": {},
   "outputs": [],
   "source": [
    "Y_pred = regr.predict(x_test)"
   ]
  },
  {
   "cell_type": "code",
   "execution_count": 8,
   "metadata": {},
   "outputs": [
    {
     "data": {
      "text/plain": [
       "Text(0,0.5,'台灣癌症粗發生率(每10萬人口)')"
      ]
     },
     "execution_count": 8,
     "metadata": {},
     "output_type": "execute_result"
    },
    {
     "data": {
      "image/png": "[encoded data removed]",
      "text/plain": [
       "<Figure size 432x288 with 1 Axes>"
      ]
     },
     "metadata": {},
     "output_type": "display_data"
    }
   ],
   "source": [
    "plt.scatter(x_test,y_test)\n",
    "plt.plot(x_test,Y_pred,'r')\n",
    "plt.xlabel('WHO 人口標準化癌症發生率(每10萬人口)')\n",
    "plt.ylabel('台灣癌症粗發生率(每10萬人口)')"
   ]
  },
  {
   "cell_type": "code",
   "execution_count": null,
   "metadata": {},
   "outputs": [],
   "source": []
  }
 ],
 "metadata": {
  "kernelspec": {
   "display_name": "Python 3",
   "language": "python",
   "name": "python3"
  },
  "language_info": {
   "codemirror_mode": {
    "name": "ipython",
    "version": 3
   },
   "file_extension": ".py",
   "mimetype": "text/x-python",
   "name": "python",
   "nbconvert_exporter": "python",
   "pygments_lexer": "ipython3",
   "version": "3.6.5"
  }
 },
 "nbformat": 4,
 "nbformat_minor": 2
}
