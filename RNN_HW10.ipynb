{
 "cells": [
  {
   "cell_type": "code",
   "execution_count": 57,
   "metadata": {},
   "outputs": [
    {
     "name": "stdout",
     "output_type": "stream",
     "text": [
      "env: KERAS_BACKEND=tensorflow\n"
     ]
    }
   ],
   "source": [
    "%env KERAS_BACKEND=tensorflow\n",
    "#引入 IMDB 數據庫\n",
    "from keras.datasets import imdb  \n",
    "from keras.preprocessing import sequence\n",
    "from keras.models import Sequential\n",
    "from keras.layers import Dense, Embedding, Activation\n",
    "from keras.layers import LSTM"
   ]
  },
  {
   "cell_type": "markdown",
   "metadata": {},
   "source": [
    "# 初始 RNN"
   ]
  },
  {
   "cell_type": "markdown",
   "metadata": {},
   "source": [
    "老師的RNN"
   ]
  },
  {
   "cell_type": "code",
   "execution_count": 54,
   "metadata": {},
   "outputs": [
    {
     "name": "stdout",
     "output_type": "stream",
     "text": [
      "訓練總筆數: 25000\n",
      "測試總筆數: 25000\n",
      "_________________________________________________________________\n",
      "Layer (type)                 Output Shape              Param #   \n",
      "=================================================================\n",
      "embedding_21 (Embedding)     (None, None, 3)           30000     \n",
      "_________________________________________________________________\n",
      "lstm_21 (LSTM)               (None, 4)                 128       \n",
      "_________________________________________________________________\n",
      "dense_24 (Dense)             (None, 1)                 5         \n",
      "=================================================================\n",
      "Total params: 30,133\n",
      "Trainable params: 30,133\n",
      "Non-trainable params: 0\n",
      "_________________________________________________________________\n",
      "Epoch 1/5\n",
      "25000/25000 [==============================] - 40s 2ms/step - loss: 0.5033 - acc: 0.7560\n",
      "Epoch 2/5\n",
      "25000/25000 [==============================] - 44s 2ms/step - loss: 0.2955 - acc: 0.8884\n",
      "Epoch 3/5\n",
      "25000/25000 [==============================] - 45s 2ms/step - loss: 0.2311 - acc: 0.9182\n",
      "Epoch 4/5\n",
      "25000/25000 [==============================] - 45s 2ms/step - loss: 0.1956 - acc: 0.9322\n",
      "Epoch 5/5\n",
      "25000/25000 [==============================] - 49s 2ms/step - loss: 0.1677 - acc: 0.9447\n",
      "25000/25000 [==============================] - 8s 323us/step\n",
      "測試資料的loss = 0.37203927914619445\n",
      "測試資正確率 =  0.85452\n"
     ]
    }
   ],
   "source": [
    "%matplotlib inline\n",
    "import matplotlib.pyplot as plt\n",
    "import numpy as np\n",
    "# Set training and testing data\n",
    "(x_train, y_train), (x_test, y_test) = imdb.load_data(num_words = 10000)\n",
    "print('訓練總筆數:', len(x_train))\n",
    "print('測試總筆數:', len(x_test))\n",
    "x_train = sequence.pad_sequences(x_train, maxlen = 150)\n",
    "x_test = sequence.pad_sequences(x_test, maxlen = 150)\n",
    "N = 3 # 文字要壓到 N 維\n",
    "K = 4 # LSTM 有 K 維神經元\n",
    "# Make Neurons \n",
    "model = Sequential()\n",
    "#最大的數字是多少 (10000), 還有我們打算壓到幾維 (N)\n",
    "model.add(Embedding(10000, N))\n",
    "#LSTM 層, 我們做 K 個 LSTM Cells。\n",
    "model.add(LSTM(K))\n",
    "#透過 sigmoid 輸出\n",
    "model.add(Dense(1, activation='sigmoid'))\n",
    "#用 binary_crossentropy 做我們的 loss function\n",
    "model.compile(loss='binary_crossentropy', optimizer='adam', metrics=['accuracy'])\n",
    "model.summary()\n",
    "# 訓練\n",
    "model.fit(x_train, y_train, batch_size=32, epochs=5)\n",
    "# 我們照例來看看測試資料的分數\n",
    "score = model.evaluate(x_test, y_test)\n",
    "print('測試資料的loss =',score[0])\n",
    "print('測試資正確率 = ',score[1])"
   ]
  },
  {
   "cell_type": "markdown",
   "metadata": {},
   "source": [
    "# 增加文字長度的Max Length"
   ]
  },
  {
   "cell_type": "markdown",
   "metadata": {},
   "source": [
    "『這是比較能大幅增加正確率的方式』"
   ]
  },
  {
   "cell_type": "code",
   "execution_count": 40,
   "metadata": {},
   "outputs": [
    {
     "name": "stdout",
     "output_type": "stream",
     "text": [
      "_________________________________________________________________\n",
      "Layer (type)                 Output Shape              Param #   \n",
      "=================================================================\n",
      "embedding_9 (Embedding)      (None, None, 3)           30000     \n",
      "_________________________________________________________________\n",
      "lstm_9 (LSTM)                (None, 4)                 128       \n",
      "_________________________________________________________________\n",
      "dense_9 (Dense)              (None, 1)                 5         \n",
      "=================================================================\n",
      "Total params: 30,133\n",
      "Trainable params: 30,133\n",
      "Non-trainable params: 0\n",
      "_________________________________________________________________\n",
      "Epoch 1/5\n",
      "25000/25000 [==============================] - 145s 6ms/step - loss: 0.5115 - acc: 0.7545\n",
      "Epoch 2/5\n",
      "25000/25000 [==============================] - 154s 6ms/step - loss: 0.3183 - acc: 0.8783\n",
      "Epoch 3/5\n",
      "25000/25000 [==============================] - 154s 6ms/step - loss: 0.2472 - acc: 0.9108\n",
      "Epoch 4/5\n",
      "25000/25000 [==============================] - 150s 6ms/step - loss: 0.2018 - acc: 0.9312\n",
      "Epoch 5/5\n",
      "25000/25000 [==============================] - 148s 6ms/step - loss: 0.1753 - acc: 0.9422\n",
      "25000/25000 [==============================] - 22s 890us/step\n",
      "測試資料的loss = 0.36383654449462893\n",
      "測試資正確率 =  0.86144\n"
     ]
    }
   ],
   "source": [
    "(x_train, y_train), (x_test, y_test) = imdb.load_data(num_words = 10000)\n",
    "# 選取所需的文字長度 Maxlength = 500 把字數用一樣長\n",
    "x_train = sequence.pad_sequences(x_train, maxlen = 500)\n",
    "x_test = sequence.pad_sequences(x_test, maxlen = 500 )\n",
    "N = 3 # 文字要壓到 N 維\n",
    "K = 4 # LSTM 有 K 維神經元\n",
    "# Make Neurons \n",
    "model = Sequential()\n",
    "#最大的數字是多少 (10000), 還有我們打算壓到幾維 (N)\n",
    "model.add(Embedding(10000, N))\n",
    "#LSTM 層, 我們做 K 個 LSTM Cells。\n",
    "model.add(LSTM(K))\n",
    "#透過 sigmoid 輸出\n",
    "model.add(Dense(1, activation='sigmoid'))\n",
    "#用 binary_crossentropy 做我們的 loss function\n",
    "model.compile(loss='binary_crossentropy', optimizer='adam', metrics=['accuracy'])\n",
    "model.summary()\n",
    "# 訓練\n",
    "model.fit(x_train, y_train, batch_size=32, epochs=5)\n",
    "# 我們照例來看看測試資料的分數\n",
    "score = model.evaluate(x_test, y_test)\n",
    "print('測試資料的loss =',score[0])\n",
    "print('測試資正確率 = ',score[1])"
   ]
  },
  {
   "cell_type": "markdown",
   "metadata": {},
   "source": [
    "增加可接受文字長度的Max Length後，正確率算是大幅增加"
   ]
  },
  {
   "cell_type": "markdown",
   "metadata": {},
   "source": [
    "# 增加文字的維度"
   ]
  },
  {
   "cell_type": "markdown",
   "metadata": {},
   "source": [
    "『不太確定是否能增加正確率』"
   ]
  },
  {
   "cell_type": "code",
   "execution_count": 43,
   "metadata": {},
   "outputs": [
    {
     "name": "stdout",
     "output_type": "stream",
     "text": [
      "_________________________________________________________________\n",
      "Layer (type)                 Output Shape              Param #   \n",
      "=================================================================\n",
      "embedding_12 (Embedding)     (None, None, 10)          100000    \n",
      "_________________________________________________________________\n",
      "lstm_12 (LSTM)               (None, 4)                 240       \n",
      "_________________________________________________________________\n",
      "dense_12 (Dense)             (None, 1)                 5         \n",
      "=================================================================\n",
      "Total params: 100,245\n",
      "Trainable params: 100,245\n",
      "Non-trainable params: 0\n",
      "_________________________________________________________________\n",
      "Epoch 1/5\n",
      "25000/25000 [==============================] - 134s 5ms/step - loss: 0.5019 - acc: 0.7635\n",
      "Epoch 2/5\n",
      "25000/25000 [==============================] - 149s 6ms/step - loss: 0.3085 - acc: 0.8844\n",
      "Epoch 3/5\n",
      "25000/25000 [==============================] - 149s 6ms/step - loss: 0.2368 - acc: 0.9144\n",
      "Epoch 4/5\n",
      "25000/25000 [==============================] - 149s 6ms/step - loss: 0.2033 - acc: 0.9276\n",
      "Epoch 5/5\n",
      "25000/25000 [==============================] - 150s 6ms/step - loss: 0.1705 - acc: 0.9426\n",
      "25000/25000 [==============================] - 23s 913us/step\n",
      "測試資料的loss = 0.36350395637989047\n",
      "測試資正確率 =  0.864\n"
     ]
    }
   ],
   "source": [
    "(x_train, y_train), (x_test, y_test) = imdb.load_data(num_words = 10000)\n",
    "x_train = sequence.pad_sequences(x_train, maxlen = 500)\n",
    "x_test = sequence.pad_sequences(x_test, maxlen = 500 )\n",
    "N = 10 # 文字要壓到 N 維\n",
    "K = 4 # LSTM 有 K 維神經元\n",
    "# Make Neurons \n",
    "model = Sequential()\n",
    "#最大的數字是多少 (10000), 還有我們打算壓到幾維 (N)\n",
    "model.add(Embedding(10000, N))\n",
    "#LSTM 層, 我們做 K 個 LSTM Cells。\n",
    "model.add(LSTM(K))\n",
    "#透過 sigmoid 輸出\n",
    "model.add(Dense(1, activation='sigmoid'))\n",
    "#用 binary_crossentropy 做我們的 loss function\n",
    "model.compile(loss='binary_crossentropy', optimizer='adam', metrics=['accuracy'])\n",
    "model.summary()\n",
    "# 訓練\n",
    "model.fit(x_train, y_train, batch_size=32, epochs=5)\n",
    "# 我們照例來看看測試資料的分數\n",
    "score = model.evaluate(x_test, y_test)\n",
    "print('測試資料的loss =',score[0])\n",
    "print('測試資正確率 = ',score[1])"
   ]
  },
  {
   "cell_type": "markdown",
   "metadata": {},
   "source": [
    "增加初始文字維度至10，正確率有些微增加。但是若增加到20反降，所以不太確定改變文字維度，是否真的有效增加正確率。"
   ]
  },
  {
   "cell_type": "markdown",
   "metadata": {},
   "source": [
    "# 增加 LSTM 的神經元維度"
   ]
  },
  {
   "cell_type": "markdown",
   "metadata": {},
   "source": [
    "『不太確定是否能增加正確率』"
   ]
  },
  {
   "cell_type": "code",
   "execution_count": 45,
   "metadata": {},
   "outputs": [
    {
     "name": "stdout",
     "output_type": "stream",
     "text": [
      "_________________________________________________________________\n",
      "Layer (type)                 Output Shape              Param #   \n",
      "=================================================================\n",
      "embedding_14 (Embedding)     (None, None, 10)          100000    \n",
      "_________________________________________________________________\n",
      "lstm_14 (LSTM)               (None, 10)                840       \n",
      "_________________________________________________________________\n",
      "dense_14 (Dense)             (None, 1)                 11        \n",
      "=================================================================\n",
      "Total params: 100,851\n",
      "Trainable params: 100,851\n",
      "Non-trainable params: 0\n",
      "_________________________________________________________________\n",
      "Epoch 1/5\n",
      "25000/25000 [==============================] - 152s 6ms/step - loss: 0.4368 - acc: 0.7975\n",
      "Epoch 2/5\n",
      "25000/25000 [==============================] - 157s 6ms/step - loss: 0.2508 - acc: 0.9055\n",
      "Epoch 3/5\n",
      "25000/25000 [==============================] - 152s 6ms/step - loss: 0.2052 - acc: 0.9262\n",
      "Epoch 4/5\n",
      "25000/25000 [==============================] - 153s 6ms/step - loss: 0.1641 - acc: 0.9441\n",
      "Epoch 5/5\n",
      "25000/25000 [==============================] - 153s 6ms/step - loss: 0.1594 - acc: 0.9452\n",
      "25000/25000 [==============================] - 23s 932us/step\n",
      "測試資料的loss = 0.3561795807123184\n",
      "測試資正確率 =  0.86856\n"
     ]
    }
   ],
   "source": [
    "(x_train, y_train), (x_test, y_test) = imdb.load_data(num_words = 10000)\n",
    "x_train = sequence.pad_sequences(x_train, maxlen = 500)\n",
    "x_test = sequence.pad_sequences(x_test, maxlen = 500 )\n",
    "N = 10 # 文字要壓到 N 維\n",
    "K = 10 # LSTM 有 K 維神經元\n",
    "# Make Neurons \n",
    "model = Sequential()\n",
    "#最大的數字是多少 (10000), 還有我們打算壓到幾維 (N)\n",
    "model.add(Embedding(10000, N))\n",
    "#LSTM 層, 我們做 K 個 LSTM Cells。\n",
    "model.add(LSTM(K))\n",
    "#透過 sigmoid 輸出\n",
    "model.add(Dense(1, activation='sigmoid'))\n",
    "#用 binary_crossentropy 做我們的 loss function\n",
    "model.compile(loss='binary_crossentropy', optimizer='adam', metrics=['accuracy'])\n",
    "model.summary()\n",
    "# 訓練\n",
    "model.fit(x_train, y_train, batch_size=32, epochs=5)\n",
    "# 我們照例來看看測試資料的分數\n",
    "score = model.evaluate(x_test, y_test)\n",
    "print('測試資料的loss =',score[0])\n",
    "print('測試資正確率 = ',score[1])"
   ]
  },
  {
   "cell_type": "markdown",
   "metadata": {},
   "source": [
    "增加 LSTM 的神經元維度至10，正確率有些微增加。但是若增加到20反降，所以不太確定改變 LSTM 的神經元維度，是否真的有效增加正確率。"
   ]
  },
  {
   "cell_type": "markdown",
   "metadata": {},
   "source": [
    "# 再次增加Max Length"
   ]
  },
  {
   "cell_type": "code",
   "execution_count": 53,
   "metadata": {},
   "outputs": [
    {
     "name": "stdout",
     "output_type": "stream",
     "text": [
      "_________________________________________________________________\n",
      "Layer (type)                 Output Shape              Param #   \n",
      "=================================================================\n",
      "embedding_20 (Embedding)     (None, None, 10)          100000    \n",
      "_________________________________________________________________\n",
      "lstm_20 (LSTM)               (None, 10)                840       \n",
      "_________________________________________________________________\n",
      "dense_23 (Dense)             (None, 1)                 11        \n",
      "=================================================================\n",
      "Total params: 100,851\n",
      "Trainable params: 100,851\n",
      "Non-trainable params: 0\n",
      "_________________________________________________________________\n",
      "Epoch 1/5\n",
      "25000/25000 [==============================] - 280s 11ms/step - loss: 0.4274 - acc: 0.8016\n",
      "Epoch 2/5\n",
      "25000/25000 [==============================] - 300s 12ms/step - loss: 0.3363 - acc: 0.8716\n",
      "Epoch 3/5\n",
      "25000/25000 [==============================] - 300s 12ms/step - loss: 0.2192 - acc: 0.9211\n",
      "Epoch 4/5\n",
      "25000/25000 [==============================] - 299s 12ms/step - loss: 0.1760 - acc: 0.9377\n",
      "Epoch 5/5\n",
      "25000/25000 [==============================] - 299s 12ms/step - loss: 0.1542 - acc: 0.9466\n",
      "25000/25000 [==============================] - 46s 2ms/step\n",
      "測試資料的loss = 0.3608487462592125\n",
      "測試資正確率 =  0.87048\n"
     ]
    }
   ],
   "source": [
    "(x_train, y_train), (x_test, y_test) = imdb.load_data(num_words = 10000)\n",
    "x_train = sequence.pad_sequences(x_train, maxlen = 1000)\n",
    "x_test = sequence.pad_sequences(x_test, maxlen = 1000 )\n",
    "N = 10 # 文字要壓到 N 維\n",
    "K = 10 # LSTM 有 K 維神經元\n",
    "# Make Neurons \n",
    "model = Sequential()\n",
    "#最大的數字是多少 (10000), 還有我們打算壓到幾維 (N)\n",
    "model.add(Embedding(10000, N))\n",
    "#LSTM 層, 我們做 K 個 LSTM Cells。\n",
    "model.add(LSTM(K))\n",
    "\n",
    "\n",
    "#透過 sigmoid 輸出\n",
    "\n",
    "model.add(Dense(1, activation='sigmoid'))\n",
    "#用 binary_crossentropy 做我們的 loss function\n",
    "model.compile(loss='binary_crossentropy', optimizer='adam', metrics=['accuracy'])\n",
    "model.summary()\n",
    "\n",
    "# 訓練\n",
    "model.fit(x_train, y_train, batch_size=32, epochs=5)\n",
    "# 我們照例來看看測試資料的分數\n",
    "score = model.evaluate(x_test, y_test)\n",
    "print('測試資料的loss =',score[0])\n",
    "print('測試資正確率 = ',score[1])"
   ]
  },
  {
   "cell_type": "markdown",
   "metadata": {},
   "source": [
    "# 小結論"
   ]
  },
  {
   "cell_type": "markdown",
   "metadata": {},
   "source": [
    "最能夠有效增加正確率的方式，就是調整可接受文字長度的 Max Length"
   ]
  }
 ],
 "metadata": {
  "kernelspec": {
   "display_name": "Python 3",
   "language": "python",
   "name": "python3"
  },
  "language_info": {
   "codemirror_mode": {
    "name": "ipython",
    "version": 3
   },
   "file_extension": ".py",
   "mimetype": "text/x-python",
   "name": "python",
   "nbconvert_exporter": "python",
   "pygments_lexer": "ipython3",
   "version": "3.5.6"
  }
 },
 "nbformat": 4,
 "nbformat_minor": 2
}
