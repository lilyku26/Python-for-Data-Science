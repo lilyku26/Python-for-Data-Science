{
 "cells": [
  {
   "cell_type": "code",
   "execution_count": 1,
   "metadata": {},
   "outputs": [],
   "source": [
    "%matplotlib inline\n",
    "import pandas as pd\n",
    "import matplotlib.pyplot as plt\n",
    "import numpy as np\n",
    "from numpy import*\n",
    "import matplotlib as mpl\n",
    "import matplotlib.image as img\n",
    "from PIL import Image\n",
    "from matplotlib.font_manager import FontManager\n",
    "fm = FontManager()\n",
    "mat_fonts = set(f.name for f in fm.ttflist)\n",
    "plt.rcParams['font.sans-serif'] = ['Arial Unicode MS']"
   ]
  },
  {
   "cell_type": "markdown",
   "metadata": {},
   "source": [
    "# input data file"
   ]
  },
  {
   "cell_type": "code",
   "execution_count": 2,
   "metadata": {},
   "outputs": [
    {
     "data": {
      "text/html": [
       "<div>\n",
       "<style scoped>\n",
       "    .dataframe tbody tr th:only-of-type {\n",
       "        vertical-align: middle;\n",
       "    }\n",
       "\n",
       "    .dataframe tbody tr th {\n",
       "        vertical-align: top;\n",
       "    }\n",
       "\n",
       "    .dataframe thead th {\n",
       "        text-align: right;\n",
       "    }\n",
       "</style>\n",
       "<table border=\"1\" class=\"dataframe\">\n",
       "  <thead>\n",
       "    <tr style=\"text-align: right;\">\n",
       "      <th></th>\n",
       "      <th>學校編號</th>\n",
       "      <th>學年度</th>\n",
       "      <th>縣市</th>\n",
       "      <th>校名</th>\n",
       "      <th>設立別</th>\n",
       "      <th>學校類別</th>\n",
       "      <th>Enumeration_unit_lat</th>\n",
       "      <th>Enumeration_unit_long</th>\n",
       "      <th>核定班級數</th>\n",
       "      <th>現有班級數</th>\n",
       "      <th>...</th>\n",
       "      <th>語文類借閱冊次</th>\n",
       "      <th>美術類借閱冊次</th>\n",
       "      <th>圖書借閱人次</th>\n",
       "      <th>視聽資料總數</th>\n",
       "      <th>期刊報紙總類數</th>\n",
       "      <th>教職員人數</th>\n",
       "      <th>教職員借閱人次</th>\n",
       "      <th>教職員借閱冊數</th>\n",
       "      <th>附註說明</th>\n",
       "      <th>Unnamed: 43</th>\n",
       "    </tr>\n",
       "  </thead>\n",
       "  <tbody>\n",
       "    <tr>\n",
       "      <th>0</th>\n",
       "      <td>1</td>\n",
       "      <td>94-2</td>\n",
       "      <td>台中市</td>\n",
       "      <td>大甲高工</td>\n",
       "      <td>公立</td>\n",
       "      <td>高職</td>\n",
       "      <td>24.347065</td>\n",
       "      <td>120.640095</td>\n",
       "      <td>36</td>\n",
       "      <td>36</td>\n",
       "      <td>...</td>\n",
       "      <td>2371</td>\n",
       "      <td>176</td>\n",
       "      <td>2124</td>\n",
       "      <td>3019</td>\n",
       "      <td>142</td>\n",
       "      <td>0</td>\n",
       "      <td>0</td>\n",
       "      <td>0</td>\n",
       "      <td>NaN</td>\n",
       "      <td>NaN</td>\n",
       "    </tr>\n",
       "    <tr>\n",
       "      <th>1</th>\n",
       "      <td>1</td>\n",
       "      <td>95-1</td>\n",
       "      <td>台中市</td>\n",
       "      <td>大甲高工</td>\n",
       "      <td>公立</td>\n",
       "      <td>高職</td>\n",
       "      <td>24.347065</td>\n",
       "      <td>120.640095</td>\n",
       "      <td>36</td>\n",
       "      <td>36</td>\n",
       "      <td>...</td>\n",
       "      <td>1865</td>\n",
       "      <td>324</td>\n",
       "      <td>1486</td>\n",
       "      <td>3060</td>\n",
       "      <td>133</td>\n",
       "      <td>0</td>\n",
       "      <td>0</td>\n",
       "      <td>0</td>\n",
       "      <td>本校原已於規定之時限內填報，惟未做確認動作，直至今(5/15)重新查看，才發現之前所傳未成功...</td>\n",
       "      <td>NaN</td>\n",
       "    </tr>\n",
       "    <tr>\n",
       "      <th>2</th>\n",
       "      <td>1</td>\n",
       "      <td>96-1</td>\n",
       "      <td>台中市</td>\n",
       "      <td>大甲高工</td>\n",
       "      <td>公立</td>\n",
       "      <td>高職</td>\n",
       "      <td>24.347065</td>\n",
       "      <td>120.640095</td>\n",
       "      <td>36</td>\n",
       "      <td>36</td>\n",
       "      <td>...</td>\n",
       "      <td>2054</td>\n",
       "      <td>196</td>\n",
       "      <td>1181</td>\n",
       "      <td>3359</td>\n",
       "      <td>120</td>\n",
       "      <td>0</td>\n",
       "      <td>0</td>\n",
       "      <td>0</td>\n",
       "      <td>NaN</td>\n",
       "      <td>NaN</td>\n",
       "    </tr>\n",
       "    <tr>\n",
       "      <th>3</th>\n",
       "      <td>1</td>\n",
       "      <td>96-2</td>\n",
       "      <td>台中市</td>\n",
       "      <td>大甲高工</td>\n",
       "      <td>公立</td>\n",
       "      <td>高職</td>\n",
       "      <td>24.347065</td>\n",
       "      <td>120.640095</td>\n",
       "      <td>36</td>\n",
       "      <td>36</td>\n",
       "      <td>...</td>\n",
       "      <td>1879</td>\n",
       "      <td>103</td>\n",
       "      <td>1220</td>\n",
       "      <td>3201</td>\n",
       "      <td>124</td>\n",
       "      <td>0</td>\n",
       "      <td>0</td>\n",
       "      <td>0</td>\n",
       "      <td>NaN</td>\n",
       "      <td>NaN</td>\n",
       "    </tr>\n",
       "    <tr>\n",
       "      <th>4</th>\n",
       "      <td>1</td>\n",
       "      <td>97-1</td>\n",
       "      <td>台中市</td>\n",
       "      <td>大甲高工</td>\n",
       "      <td>公立</td>\n",
       "      <td>高職</td>\n",
       "      <td>24.347065</td>\n",
       "      <td>120.640095</td>\n",
       "      <td>36</td>\n",
       "      <td>36</td>\n",
       "      <td>...</td>\n",
       "      <td>2288</td>\n",
       "      <td>155</td>\n",
       "      <td>1308</td>\n",
       "      <td>3467</td>\n",
       "      <td>51</td>\n",
       "      <td>0</td>\n",
       "      <td>0</td>\n",
       "      <td>0</td>\n",
       "      <td>原各類圖書資料中包含有視聽資料，經業務檢查指導更正。</td>\n",
       "      <td>NaN</td>\n",
       "    </tr>\n",
       "  </tbody>\n",
       "</table>\n",
       "<p>5 rows × 44 columns</p>\n",
       "</div>"
      ],
      "text/plain": [
       "   學校編號   學年度   縣市    校名 設立別 學校類別  Enumeration_unit_lat  \\\n",
       "0     1  94-2  台中市  大甲高工  公立   高職             24.347065   \n",
       "1     1  95-1  台中市  大甲高工  公立   高職             24.347065   \n",
       "2     1  96-1  台中市  大甲高工  公立   高職             24.347065   \n",
       "3     1  96-2  台中市  大甲高工  公立   高職             24.347065   \n",
       "4     1  97-1  台中市  大甲高工  公立   高職             24.347065   \n",
       "\n",
       "   Enumeration_unit_long  核定班級數  現有班級數     ...       語文類借閱冊次  美術類借閱冊次  圖書借閱人次  \\\n",
       "0             120.640095     36     36     ...          2371      176    2124   \n",
       "1             120.640095     36     36     ...          1865      324    1486   \n",
       "2             120.640095     36     36     ...          2054      196    1181   \n",
       "3             120.640095     36     36     ...          1879      103    1220   \n",
       "4             120.640095     36     36     ...          2288      155    1308   \n",
       "\n",
       "   視聽資料總數  期刊報紙總類數  教職員人數  教職員借閱人次  教職員借閱冊數  \\\n",
       "0    3019      142      0        0        0   \n",
       "1    3060      133      0        0        0   \n",
       "2    3359      120      0        0        0   \n",
       "3    3201      124      0        0        0   \n",
       "4    3467       51      0        0        0   \n",
       "\n",
       "                                                附註說明  Unnamed: 43  \n",
       "0                                                NaN          NaN  \n",
       "1  本校原已於規定之時限內填報，惟未做確認動作，直至今(5/15)重新查看，才發現之前所傳未成功...          NaN  \n",
       "2                                                NaN          NaN  \n",
       "3                                                NaN          NaN  \n",
       "4                         原各類圖書資料中包含有視聽資料，經業務檢查指導更正。          NaN  \n",
       "\n",
       "[5 rows x 44 columns]"
      ]
     },
     "execution_count": 2,
     "metadata": {},
     "output_type": "execute_result"
    }
   ],
   "source": [
    "df = pd.read_excel (r'data.xlsx')\n",
    "df.head()"
   ]
  },
  {
   "cell_type": "code",
   "execution_count": 3,
   "metadata": {},
   "outputs": [
    {
     "data": {
      "text/plain": [
       "Index(['學校編號', '學年度', '縣市', '校名', '設立別', '學校類別', 'Enumeration_unit_lat',\n",
       "       'Enumeration_unit_long', '核定班級數', '現有班級數', '現有學生數', '現有閱覽座位', '圖書館員工數',\n",
       "       '主任人數', '組長人數', '職員(含工友)', '書籍冊數', '總類', '哲學類', '宗教類', '自然科學類', '應用科學類',\n",
       "       '社會科學類', '史地類', '語文類', '美術類', '圖書借閱冊次', '總類借閱冊次', '哲學類借閱冊次', '宗教類借閱冊次',\n",
       "       '自然科學類借閱冊次', '應用科學類借閱冊次', '社會科學類借閱冊次', '史地類借閱冊次', '語文類借閱冊次', '美術類借閱冊次',\n",
       "       '圖書借閱人次', '視聽資料總數', '期刊報紙總類數', '教職員人數', '教職員借閱人次', '教職員借閱冊數', '附註說明',\n",
       "       'Unnamed: 43'],\n",
       "      dtype='object')"
      ]
     },
     "execution_count": 3,
     "metadata": {},
     "output_type": "execute_result"
    }
   ],
   "source": [
    "df.columns"
   ]
  },
  {
   "cell_type": "code",
   "execution_count": 4,
   "metadata": {},
   "outputs": [],
   "source": [
    "df_1052=df[df['學年度']=='105-2']\n",
    "df_1002=df[df['學年度']=='100-2']\n",
    "df_952=df[df['學年度']=='95-2']"
   ]
  },
  {
   "cell_type": "markdown",
   "metadata": {},
   "source": [
    "# 畫出圖書館分布"
   ]
  },
  {
   "cell_type": "code",
   "execution_count": 53,
   "metadata": {
    "scrolled": true
   },
   "outputs": [
    {
     "data": {
      "image/png": "[encoded data removed]",
      "text/plain": [
       "<Figure size 360x356.4 with 1 Axes>"
      ]
     },
     "metadata": {},
     "output_type": "display_data"
    }
   ],
   "source": [
    "plt.figure(figsize=(5,4.95))\n",
    "x=df_1052['Enumeration_unit_long']\n",
    "y=df_1052['Enumeration_unit_lat']\n",
    "plt.xlabel('經度')\n",
    "plt.ylabel('緯度')\n",
    "plt.title('105-2高中職學校圖書館分佈')\n",
    "plt.plot(x, y,'.', linewidth=5, color='skyblue')\n",
    "plt.xlim([118,122.5])  \n",
    "#plt.ylim([21,26])\n",
    "plt.grid(True)\n",
    "#plt.savefig('11.png', format='png',transparent=True)\n",
    "plt.show()"
   ]
  },
  {
   "cell_type": "code",
   "execution_count": 6,
   "metadata": {},
   "outputs": [
    {
     "data": {
      "text/plain": [
       "(15, 44)"
      ]
     },
     "execution_count": 6,
     "metadata": {},
     "output_type": "execute_result"
    }
   ],
   "source": [
    "df_1052hig=df_1052[df_1052['學校類別']=='高中']\n",
    "df_1002hig=df_1002[df_1002['學校類別']=='高中']\n",
    "df_952hig=df_952[df_952['學校類別']=='高中']\n",
    "shape(df_1052hig)#有350間高中\n",
    "shape(df_1002hig)#有338間高中\n",
    "shape(df_952hig)#有284間高中\n",
    "\n",
    "df_1052hi=df_1052[df_1052['學校類別']=='高職']\n",
    "df_1002hi=df_1002[df_1002['學校類別']=='高職']\n",
    "df_952hi=df_952[df_952['學校類別']=='高職']\n",
    "shape(df_1052hi) #有152間高職\n",
    "shape(df_1002hi) #有153間高職\n",
    "shape(df_952hi) #有137間高職\n",
    "\n",
    "df_1052h=df_1052[df_1052['學校類別']=='特殊']\n",
    "df_1002h=df_1002[df_1002['學校類別']=='特殊']\n",
    "df_952h=df_952[df_952['學校類別']=='特殊']\n",
    "shape(df_1052h) #有27間特殊學校\n",
    "shape(df_1002h) #有24間特殊學校\n",
    "shape(df_952h) #有15間特殊學校"
   ]
  },
  {
   "cell_type": "markdown",
   "metadata": {},
   "source": [
    "# 比較105-2高中、高職、特殊學校的平均值"
   ]
  },
  {
   "cell_type": "code",
   "execution_count": 7,
   "metadata": {},
   "outputs": [
    {
     "data": {
      "image/png": "[encoded data removed]",
      "text/plain": [
       "<Figure size 360x360 with 1 Axes>"
      ]
     },
     "metadata": {},
     "output_type": "display_data"
    }
   ],
   "source": [
    "fig, ax = plt.subplots(figsize=(5,5))\n",
    "labels = ['高中', '高職', '特殊']\n",
    "book_means = [sum(df_1052hig['書籍冊數'])/350, sum(df_1052hi['書籍冊數'])/152,sum(df_1052h['書籍冊數'])/27]\n",
    "people_means = [sum(df_1052hig['現有學生數'])/350, sum(df_1052hi['現有學生數'])/152,sum(df_1052h['現有學生數'])/27]\n",
    "borrow_means = [sum(df_1052hig['圖書借閱冊次'])/350, sum(df_1052hi['圖書借閱冊次'])/152,sum(df_1052h['圖書借閱冊次'])/27]\n",
    "borpeople_means=[sum(df_1052hig['圖書借閱人次'])/350, sum(df_1052hi['圖書借閱人次'])/152,sum(df_1052h['圖書借閱人次'])/27]\n",
    "ind = np.arange(3)    # the x locations for the groups\n",
    "width = 0.2         # the width of the bars\n",
    "p1 = ax.bar(ind, book_means, width, bottom=0)\n",
    "p3 = ax.bar(ind + 2*width, people_means, width, bottom=0)\n",
    "p2 = ax.bar(ind + width, borrow_means, width, bottom=0)\n",
    "p4 = ax.bar(ind + 3*width, borpeople_means, width, bottom=0)\n",
    "ax.set_title('105-2學校類別差異')\n",
    "ax.set_xticks(ind + 3*width / 2)\n",
    "ax.set_xticklabels(('高中', '高職', '特殊'))\n",
    "ax.legend((p1[0], p2[0],p3[0],p4[0]), ('平均書籍冊數','平均圖書借閱冊次', '平均現有學生數','平均圖書借閱人次' ))\n",
    "ax.autoscale_view()"
   ]
  },
  {
   "cell_type": "markdown",
   "metadata": {},
   "source": [
    "# 比較105-2  100-2  95-2 的平均值 "
   ]
  },
  {
   "cell_type": "code",
   "execution_count": 9,
   "metadata": {},
   "outputs": [
    {
     "data": {
      "image/png": "[encoded data removed]",
      "text/plain": [
       "<Figure size 360x360 with 1 Axes>"
      ]
     },
     "metadata": {},
     "output_type": "display_data"
    },
    {
     "data": {
      "image/png": "[encoded data removed]",
      "text/plain": [
       "<Figure size 360x360 with 1 Axes>"
      ]
     },
     "metadata": {},
     "output_type": "display_data"
    }
   ],
   "source": [
    "# fig, ax = plt.subplots(figsize=(5,5))\n",
    "labels = ['105-2', '100-2', '95-2']\n",
    "book_means = [sum(df_1052hig['書籍冊數'])/350, sum(df_1002hig['書籍冊數'])/338,sum(df_952hig['書籍冊數'])/284]\n",
    "people_means = [sum(df_1052hig['現有學生數'])/350, sum(df_1002hig['現有學生數'])/338,sum(df_952hig['現有學生數'])/284]\n",
    "borrow_means = [sum(df_1052hig['圖書借閱冊次'])/350, sum(df_1002hig['圖書借閱冊次'])/338,sum(df_952hig['圖書借閱冊次'])/284]\n",
    "borpeople_means=[sum(df_1052hig['圖書借閱人次'])/350, sum(df_1002hig['圖書借閱人次'])/338,sum(df_952hig['圖書借閱人次'])/284]\n",
    "ind = np.arange(3)    # the x locations for the groups\n",
    "width = 0.2         # the width of the bars\n",
    "p1 = ax.bar(ind, book_means, width, bottom=0)\n",
    "p3 = ax.bar(ind + 2*width, people_means, width, bottom=0)\n",
    "p2 = ax.bar(ind + width, borrow_means, width, bottom=0)\n",
    "p4 = ax.bar(ind + 3*width, borpeople_means, width, bottom=0)\n",
    "ax.set_title('高中每隔五年差異')\n",
    "ax.set_xticks(ind + 3*width / 2)\n",
    "ax.set_xticklabels(('105-2', '100-2', '95-2'))\n",
    "ax.legend((p1[0], p2[0],p3[0],p4[0]), ('平均書籍冊數','平均圖書借閱冊次', '平均現有學生數','平均圖書借閱人次' ))\n",
    "#ax.autoscale_view()\n",
    "\n",
    "#---------------------------------------------------------------------------------------------------------\n",
    "fig, ax = plt.subplots(figsize=(5,5))\n",
    "labels = ['105-2', '100-2', '95-2']\n",
    "book_means = [sum(df_1052hi['書籍冊數'])/152, sum(df_1002hi['書籍冊數'])/153,sum(df_952hi['書籍冊數'])/137]\n",
    "people_means = [sum(df_1052hi['現有學生數'])/152, sum(df_1002hi['現有學生數'])/153,sum(df_952hi['現有學生數'])/137]\n",
    "borrow_means = [sum(df_1052hi['圖書借閱冊次'])/152, sum(df_1002hi['圖書借閱冊次'])/153,sum(df_952hi['圖書借閱冊次'])/137]\n",
    "borpeople_means=[sum(df_1052hi['圖書借閱人次'])/152, sum(df_1002hi['圖書借閱人次'])/153,sum(df_952hi['圖書借閱人次'])/137]\n",
    "ind = np.arange(3)    # the x locations for the groups\n",
    "width = 0.2         # the width of the bars\n",
    "p1 = ax.bar(ind, book_means, width, bottom=0)\n",
    "p3 = ax.bar(ind + 2*width, people_means, width, bottom=0)\n",
    "p2 = ax.bar(ind + width, borrow_means, width, bottom=0)\n",
    "p4 = ax.bar(ind + 3*width, borpeople_means, width, bottom=0)\n",
    "ax.set_title('高職每隔五年差異')\n",
    "ax.set_xticks(ind + 3*width / 2)\n",
    "ax.set_xticklabels(('105-2', '100-2', '95-2'))\n",
    "ax.legend((p1[0], p2[0],p3[0],p4[0]), ('平均書籍冊數','平均圖書借閱冊次', '平均現有學生數','平均圖書借閱人次' ))\n",
    "\n",
    "#---------------------------------------------------------------------------------------------------------\n",
    "fig, ax = plt.subplots(figsize=(5,5))\n",
    "labels = ['105-2', '100-2', '95-2']\n",
    "book_means = [sum(df_1052h['書籍冊數'])/27, sum(df_1002h['書籍冊數'])/24,sum(df_952h['書籍冊數'])/15]\n",
    "people_means = [sum(df_1052h['現有學生數'])/27, sum(df_1002h['現有學生數'])/24,sum(df_952h['現有學生數'])/15]\n",
    "borrow_means = [sum(df_1052h['圖書借閱冊次'])/27, sum(df_1002h['圖書借閱冊次'])/24,sum(df_952h['圖書借閱冊次'])/15]\n",
    "borpeople_means=[sum(df_1052h['圖書借閱人次'])/27, sum(df_1002h['圖書借閱人次'])/24,sum(df_952h['圖書借閱人次'])/15]\n",
    "ind = np.arange(3)    # the x locations for the groups\n",
    "width = 0.2         # the width of the bars\n",
    "p1 = ax.bar(ind, book_means, width, bottom=0)\n",
    "p3 = ax.bar(ind + 2*width, people_means, width, bottom=0)\n",
    "p2 = ax.bar(ind + width, borrow_means, width, bottom=0)\n",
    "p4 = ax.bar(ind + 3*width, borpeople_means, width, bottom=0)\n",
    "ax.set_title('特殊學校每隔五年差異')\n",
    "ax.set_xticks(ind + 3*width / 2)\n",
    "ax.set_xticklabels(('105-2', '100-2', '95-2'))\n",
    "ax.legend((p1[0], p2[0],p3[0],p4[0]), ('平均書籍冊數','平均圖書借閱冊次', '平均現有學生數','平均圖書借閱人次' ))\n",
    "\n",
    "ax.autoscale_view()"
   ]
  },
  {
   "cell_type": "markdown",
   "metadata": {},
   "source": [
    "# 人均借閱冊數"
   ]
  },
  {
   "cell_type": "markdown",
   "metadata": {},
   "source": [
    "不確定這樣的算法是否正確"
   ]
  },
  {
   "cell_type": "markdown",
   "metadata": {},
   "source": [
    "『高中』"
   ]
  },
  {
   "cell_type": "code",
   "execution_count": 42,
   "metadata": {},
   "outputs": [],
   "source": [
    "a1=sum(df_1052hig['圖書借閱冊次'])/sum(df_1052hig['現有學生數'])\n",
    "a2=sum(df_1002hig['圖書借閱冊次'])/sum(df_1002hig['現有學生數'])\n",
    "a3=sum(df_952hig['圖書借閱冊次'])/sum(df_952hig['現有學生數'])"
   ]
  },
  {
   "cell_type": "code",
   "execution_count": 44,
   "metadata": {},
   "outputs": [
    {
     "data": {
      "image/png": "[encoded data removed]",
      "text/plain": [
       "<Figure size 432x288 with 1 Axes>"
      ]
     },
     "metadata": {},
     "output_type": "display_data"
    }
   ],
   "source": [
    "N = 3\n",
    "stuent_borrow_avg = [a1, a2, a3]\n",
    "ind = np.arange(N)    # the x locations for the groups\n",
    "width = 0.35       # the width of the bars: can also be len(x) sequence\n",
    "\n",
    "p1 = plt.bar(ind, stuent_borrow_avg, width)\n",
    "\n",
    "plt.ylabel('借閱冊數')\n",
    "plt.title('高中每隔五年人均借閱冊數')\n",
    "X=['105-2', '100-2', '95-2']\n",
    "\n",
    "plt.bar(X, stuent_borrow_avg, alpha=0.9, width = 0.35, facecolor = 'lightskyblue',lw=1)\n",
    "\n",
    "plt.show()"
   ]
  },
  {
   "cell_type": "markdown",
   "metadata": {},
   "source": [
    "『高職』"
   ]
  },
  {
   "cell_type": "code",
   "execution_count": 49,
   "metadata": {},
   "outputs": [],
   "source": [
    "b1=sum(df_1052hi['圖書借閱冊次'])/sum(df_1052hi['現有學生數'])\n",
    "b2=sum(df_1002hi['圖書借閱冊次'])/sum(df_1002hi['現有學生數'])\n",
    "b3=sum(df_952hi['圖書借閱冊次'])/sum(df_952hi['現有學生數'])"
   ]
  },
  {
   "cell_type": "code",
   "execution_count": 50,
   "metadata": {},
   "outputs": [
    {
     "data": {
      "image/png": "[encoded data removed]",
      "text/plain": [
       "<Figure size 432x288 with 1 Axes>"
      ]
     },
     "metadata": {},
     "output_type": "display_data"
    }
   ],
   "source": [
    "N = 3\n",
    "stuent_borrow_avg = [b1, b2, b3]\n",
    "ind = np.arange(N)    # the x locations for the groups\n",
    "width = 0.35       # the width of the bars: can also be len(x) sequence\n",
    "p1 = plt.bar(ind, stuent_borrow_avg, width)\n",
    "\n",
    "plt.ylabel('借閱冊數')\n",
    "plt.title('高職每隔五年人均借閱冊數')\n",
    "X=['105-2', '100-2', '95-2']\n",
    "\n",
    "plt.bar(X, stuent_borrow_avg, alpha=0.9, width = 0.35, facecolor = 'lightskyblue',lw=1)\n",
    "plt.show()"
   ]
  },
  {
   "cell_type": "markdown",
   "metadata": {},
   "source": [
    "『特殊學校』"
   ]
  },
  {
   "cell_type": "code",
   "execution_count": 51,
   "metadata": {},
   "outputs": [],
   "source": [
    "c1=sum(df_1052h['圖書借閱冊次'])/sum(df_1052h['現有學生數'])\n",
    "c2=sum(df_1002h['圖書借閱冊次'])/sum(df_1002h['現有學生數'])\n",
    "c3=sum(df_952h['圖書借閱冊次'])/sum(df_952h['現有學生數'])"
   ]
  },
  {
   "cell_type": "code",
   "execution_count": 52,
   "metadata": {},
   "outputs": [
    {
     "data": {
      "image/png": "[encoded data removed]",
      "text/plain": [
       "<Figure size 432x288 with 1 Axes>"
      ]
     },
     "metadata": {},
     "output_type": "display_data"
    }
   ],
   "source": [
    "N = 3\n",
    "stuent_borrow_avg = [c1, c2, c3]\n",
    "ind = np.arange(N)    # the x locations for the groups\n",
    "width = 0.35       # the width of the bars: can also be len(x) sequence\n",
    "p1 = plt.bar(ind, stuent_borrow_avg, width)\n",
    "\n",
    "plt.ylabel('借閱冊數')\n",
    "plt.title('特殊學校每隔五年人均借閱冊數')\n",
    "X=['105-2', '100-2', '95-2']\n",
    "\n",
    "plt.bar(X, stuent_borrow_avg, alpha=0.9, width = 0.35, facecolor = 'lightskyblue',lw=1)\n",
    "plt.show()"
   ]
  },
  {
   "cell_type": "code",
   "execution_count": null,
   "metadata": {},
   "outputs": [],
   "source": []
  },
  {
   "cell_type": "markdown",
   "metadata": {},
   "source": [
    "# 平均每次借閱冊數"
   ]
  },
  {
   "cell_type": "markdown",
   "metadata": {},
   "source": [
    "不確定這樣的算法是否正確"
   ]
  },
  {
   "cell_type": "markdown",
   "metadata": {},
   "source": [
    "『高中』"
   ]
  },
  {
   "cell_type": "code",
   "execution_count": 54,
   "metadata": {},
   "outputs": [],
   "source": [
    "a11=sum(df_1052hig['圖書借閱冊次'])/sum(df_1052hig['圖書借閱人次'])\n",
    "a22=sum(df_1002hig['圖書借閱冊次'])/sum(df_1002hig['圖書借閱人次'])\n",
    "a33=sum(df_952hig['圖書借閱冊次'])/sum(df_952hig['圖書借閱人次'])"
   ]
  },
  {
   "cell_type": "code",
   "execution_count": 63,
   "metadata": {},
   "outputs": [
    {
     "data": {
      "image/png": "[encoded data removed]",
      "text/plain": [
       "<Figure size 432x288 with 1 Axes>"
      ]
     },
     "metadata": {},
     "output_type": "display_data"
    }
   ],
   "source": [
    "N = 3\n",
    "stuent_borrow_avg = [a11, a22, a33]\n",
    "ind = np.arange(N)    # the x locations for the groups\n",
    "width = 0.35       # the width of the bars: can also be len(x) sequence\n",
    "\n",
    "p1 = plt.bar(ind, stuent_borrow_avg, width)\n",
    "\n",
    "plt.ylabel('借閱冊數')\n",
    "plt.title('高中每隔五年平均每次借閱冊數')\n",
    "X=['105-2', '100-2', '95-2']\n",
    "\n",
    "plt.bar(X, stuent_borrow_avg, alpha=0.9, width = 0.35, facecolor = 'pink',lw=1)\n",
    "\n",
    "plt.show()"
   ]
  },
  {
   "cell_type": "markdown",
   "metadata": {},
   "source": [
    "『高職』"
   ]
  },
  {
   "cell_type": "code",
   "execution_count": 59,
   "metadata": {},
   "outputs": [],
   "source": [
    "b11=sum(df_1052hi['圖書借閱冊次'])/sum(df_1052hi['圖書借閱人次'])\n",
    "b22=sum(df_1002hi['圖書借閱冊次'])/sum(df_1002hi['圖書借閱人次'])\n",
    "b33=sum(df_952hi['圖書借閱冊次'])/sum(df_952hi['圖書借閱人次'])"
   ]
  },
  {
   "cell_type": "code",
   "execution_count": 62,
   "metadata": {},
   "outputs": [
    {
     "data": {
      "image/png": "[encoded data removed]",
      "text/plain": [
       "<Figure size 432x288 with 1 Axes>"
      ]
     },
     "metadata": {},
     "output_type": "display_data"
    }
   ],
   "source": [
    "N = 3\n",
    "stuent_borrow_avg = [b11, b22, b33]\n",
    "ind = np.arange(N)    # the x locations for the groups\n",
    "width = 0.35       # the width of the bars: can also be len(x) sequence\n",
    "p1 = plt.bar(ind, stuent_borrow_avg, width)\n",
    "\n",
    "plt.ylabel('借閱冊數')\n",
    "plt.title('高職每隔五年平均每次借閱冊數')\n",
    "X=['105-2', '100-2', '95-2']\n",
    "\n",
    "plt.bar(X, stuent_borrow_avg, alpha=0.9, width = 0.35, facecolor = 'pink',lw=1)\n",
    "plt.show()"
   ]
  },
  {
   "cell_type": "markdown",
   "metadata": {},
   "source": [
    "『特殊學校』"
   ]
  },
  {
   "cell_type": "code",
   "execution_count": 64,
   "metadata": {},
   "outputs": [],
   "source": [
    "c11=sum(df_1052h['圖書借閱冊次'])/sum(df_1052h['圖書借閱人次'])\n",
    "c22=sum(df_1002h['圖書借閱冊次'])/sum(df_1002h['圖書借閱人次'])\n",
    "c33=sum(df_952h['圖書借閱冊次'])/sum(df_952h['圖書借閱人次'])"
   ]
  },
  {
   "cell_type": "code",
   "execution_count": 65,
   "metadata": {},
   "outputs": [
    {
     "data": {
      "image/png": "[encoded data removed]",
      "text/plain": [
       "<Figure size 432x288 with 1 Axes>"
      ]
     },
     "metadata": {},
     "output_type": "display_data"
    }
   ],
   "source": [
    "N = 3\n",
    "stuent_borrow_avg = [c11, c22, c33]\n",
    "ind = np.arange(N)    # the x locations for the groups\n",
    "width = 0.35       # the width of the bars: can also be len(x) sequence\n",
    "p1 = plt.bar(ind, stuent_borrow_avg, width)\n",
    "\n",
    "plt.ylabel('借閱冊數')\n",
    "plt.title('特殊學校每隔五年平均每次借閱冊數')\n",
    "X=['105-2', '100-2', '95-2']\n",
    "\n",
    "plt.bar(X, stuent_borrow_avg, alpha=0.9, width = 0.35, facecolor = 'pink',lw=1)\n",
    "plt.show()"
   ]
  },
  {
   "cell_type": "code",
   "execution_count": null,
   "metadata": {},
   "outputs": [],
   "source": []
  }
 ],
 "metadata": {
  "kernelspec": {
   "display_name": "Python 3",
   "language": "python",
   "name": "python3"
  },
  "language_info": {
   "codemirror_mode": {
    "name": "ipython",
    "version": 3
   },
   "file_extension": ".py",
   "mimetype": "text/x-python",
   "name": "python",
   "nbconvert_exporter": "python",
   "pygments_lexer": "ipython3",
   "version": "3.6.5"
  }
 },
 "nbformat": 4,
 "nbformat_minor": 2
}
