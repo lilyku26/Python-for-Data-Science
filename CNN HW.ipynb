{
 "cells": [
  {
   "cell_type": "code",
   "execution_count": 1,
   "metadata": {},
   "outputs": [
    {
     "name": "stdout",
     "output_type": "stream",
     "text": [
      "env: KERAS_BACKEND=tensorflow\n"
     ]
    }
   ],
   "source": [
    "%env KERAS_BACKEND=tensorflow"
   ]
  },
  {
   "cell_type": "code",
   "execution_count": 2,
   "metadata": {},
   "outputs": [],
   "source": [
    "%matplotlib inline\n",
    "import numpy as np\n",
    "import matplotlib.pyplot as plt"
   ]
  },
  {
   "cell_type": "code",
   "execution_count": 3,
   "metadata": {},
   "outputs": [
    {
     "name": "stderr",
     "output_type": "stream",
     "text": [
      "Using TensorFlow backend.\n"
     ]
    }
   ],
   "source": [
    "from keras.datasets import mnist"
   ]
  },
  {
   "cell_type": "code",
   "execution_count": 4,
   "metadata": {},
   "outputs": [],
   "source": [
    "(x_train, y_train),(x_test, y_test)= mnist.load_data()"
   ]
  },
  {
   "cell_type": "code",
   "execution_count": 5,
   "metadata": {},
   "outputs": [
    {
     "data": {
      "text/plain": [
       "(28, 28)"
      ]
     },
     "execution_count": 5,
     "metadata": {},
     "output_type": "execute_result"
    }
   ],
   "source": [
    "x_train[1234].shape"
   ]
  },
  {
   "cell_type": "code",
   "execution_count": 6,
   "metadata": {},
   "outputs": [],
   "source": [
    "#CNN可以直接送矩陣, CNN要(28,28,1), 其中 1 是 Channel\n",
    "x_train = x_train.reshape(60000,28,28,1)\n",
    "x_test = x_test.reshape(10000,28,28,1)"
   ]
  },
  {
   "cell_type": "code",
   "execution_count": 7,
   "metadata": {},
   "outputs": [
    {
     "data": {
      "text/plain": [
       "(28, 28, 1)"
      ]
     },
     "execution_count": 7,
     "metadata": {},
     "output_type": "execute_result"
    }
   ],
   "source": [
    "x_train[1234].shape"
   ]
  },
  {
   "cell_type": "code",
   "execution_count": 8,
   "metadata": {},
   "outputs": [],
   "source": [
    "# 變回原本的矩陣\n",
    "X = x_train[1234]\n",
    "X= X.reshape(28,28)"
   ]
  },
  {
   "cell_type": "code",
   "execution_count": 9,
   "metadata": {},
   "outputs": [
    {
     "data": {
      "text/plain": [
       "<matplotlib.image.AxesImage at 0x1c6cd70f668>"
      ]
     },
     "execution_count": 9,
     "metadata": {},
     "output_type": "execute_result"
    },
    {
     "data": {
      "image/png": "[encoded data removed]",
      "text/plain": [
       "<Figure size 432x288 with 1 Axes>"
      ]
     },
     "metadata": {
      "needs_background": "light"
     },
     "output_type": "display_data"
    }
   ],
   "source": [
    "plt.imshow(X)"
   ]
  },
  {
   "cell_type": "markdown",
   "metadata": {},
   "source": [
    "$對 y-train 和 y- test 做 one- hot encoding$"
   ]
  },
  {
   "cell_type": "code",
   "execution_count": 10,
   "metadata": {},
   "outputs": [],
   "source": [
    "from keras.utils import np_utils"
   ]
  },
  {
   "cell_type": "code",
   "execution_count": 11,
   "metadata": {},
   "outputs": [],
   "source": [
    "y_train = np_utils.to_categorical(y_train,10) \n",
    "y_test = np_utils.to_categorical(y_test,10)"
   ]
  },
  {
   "cell_type": "markdown",
   "metadata": {},
   "source": [
    "Normalization to [0, 1]"
   ]
  },
  {
   "cell_type": "code",
   "execution_count": 12,
   "metadata": {},
   "outputs": [],
   "source": [
    "#灰階 0-255,沒有做 CNN 會很飄\n",
    "x_train = x_train/255\n",
    "x_test = x_test/255"
   ]
  },
  {
   "cell_type": "markdown",
   "metadata": {},
   "source": [
    "# 製作第一個 CNN - model"
   ]
  },
  {
   "cell_type": "code",
   "execution_count": 13,
   "metadata": {},
   "outputs": [],
   "source": [
    "#CONVOLUTION 3 TIMES\n",
    "#FILTER 5X5 \n",
    "#NO.1 FILTER > 18 → 36 → 54, FILTER 愈變愈多，因為最後是各類型的組合\n",
    "#DENSE NEURONS 9\n",
    "#OUTPUT NEURONS 10"
   ]
  },
  {
   "cell_type": "code",
   "execution_count": 14,
   "metadata": {},
   "outputs": [],
   "source": [
    "from keras.models import Sequential\n",
    "from keras.layers import Dense, Activation, Flatten\n",
    "from keras.layers import Conv2D, MaxPool2D\n",
    "from keras.optimizers import SGD"
   ]
  },
  {
   "cell_type": "code",
   "execution_count": 15,
   "metadata": {},
   "outputs": [
    {
     "name": "stdout",
     "output_type": "stream",
     "text": [
      "WARNING:tensorflow:From C:\\Anaconda3\\envs\\tensorflow\\lib\\site-packages\\tensorflow\\python\\framework\\op_def_library.py:263: colocate_with (from tensorflow.python.framework.ops) is deprecated and will be removed in a future version.\n",
      "Instructions for updating:\n",
      "Colocations handled automatically by placer.\n"
     ]
    }
   ],
   "source": [
    "model = Sequential()\n",
    "#第一次的Convolution \n",
    "#filter size =5x5, with 18 \n",
    "model.add(Conv2D(18,(5,5),padding = 'same', input_shape=(28,28,1)))\n",
    "model.add(Activation('relu'))\n",
    "#MaxPooling\n",
    "model.add(MaxPool2D(pool_size = (2,2)))"
   ]
  },
  {
   "cell_type": "code",
   "execution_count": 16,
   "metadata": {},
   "outputs": [],
   "source": [
    "#第二次的Convolution \n",
    "#filter size =5x5, with 36 \n",
    "model.add(Conv2D(36,(5,5),padding = 'same'))\n",
    "model.add(Activation('relu'))\n",
    "#MaxPooling\n",
    "model.add(MaxPool2D(pool_size = (2,2)))"
   ]
  },
  {
   "cell_type": "code",
   "execution_count": 17,
   "metadata": {},
   "outputs": [],
   "source": [
    "#第三次的Convolution \n",
    "#filter size =5x5, with 54 \n",
    "model.add(Conv2D(54,(5,5),padding = 'same'))\n",
    "model.add(Activation('relu'))\n",
    "#MaxPooling\n",
    "model.add(MaxPool2D(pool_size = (2,2)))"
   ]
  },
  {
   "cell_type": "code",
   "execution_count": 18,
   "metadata": {},
   "outputs": [],
   "source": [
    "#一層Dense\n",
    "#先拉平Flatten\n",
    "model.add(Flatten())\n",
    "model.add(Dense(9))\n",
    "model.add(Activation('relu'))"
   ]
  },
  {
   "cell_type": "code",
   "execution_count": 19,
   "metadata": {},
   "outputs": [],
   "source": [
    "#最後的Output層\n",
    "model.add(Dense(10))\n",
    "model.add(Activation('softmax'))"
   ]
  },
  {
   "cell_type": "code",
   "execution_count": 23,
   "metadata": {},
   "outputs": [],
   "source": [
    "#統整神經網路\n",
    "model.compile(loss = \"categorical_crossentropy\", optimizer = SGD(lr=0.07), metrics = ['accuracy'])\n",
    "#model.compile(loss = 'mse', optimizer = SGD(lr=0.07), metrics=['accuracy'])"
   ]
  },
  {
   "cell_type": "code",
   "execution_count": 24,
   "metadata": {},
   "outputs": [
    {
     "name": "stdout",
     "output_type": "stream",
     "text": [
      "_________________________________________________________________\n",
      "Layer (type)                 Output Shape              Param #   \n",
      "=================================================================\n",
      "conv2d_1 (Conv2D)            (None, 28, 28, 18)        468       \n",
      "_________________________________________________________________\n",
      "activation_1 (Activation)    (None, 28, 28, 18)        0         \n",
      "_________________________________________________________________\n",
      "max_pooling2d_1 (MaxPooling2 (None, 14, 14, 18)        0         \n",
      "_________________________________________________________________\n",
      "conv2d_2 (Conv2D)            (None, 14, 14, 36)        16236     \n",
      "_________________________________________________________________\n",
      "activation_2 (Activation)    (None, 14, 14, 36)        0         \n",
      "_________________________________________________________________\n",
      "max_pooling2d_2 (MaxPooling2 (None, 7, 7, 36)          0         \n",
      "_________________________________________________________________\n",
      "conv2d_3 (Conv2D)            (None, 7, 7, 54)          48654     \n",
      "_________________________________________________________________\n",
      "activation_3 (Activation)    (None, 7, 7, 54)          0         \n",
      "_________________________________________________________________\n",
      "max_pooling2d_3 (MaxPooling2 (None, 3, 3, 54)          0         \n",
      "_________________________________________________________________\n",
      "flatten_1 (Flatten)          (None, 486)               0         \n",
      "_________________________________________________________________\n",
      "dense_1 (Dense)              (None, 9)                 4383      \n",
      "_________________________________________________________________\n",
      "activation_4 (Activation)    (None, 9)                 0         \n",
      "_________________________________________________________________\n",
      "dense_2 (Dense)              (None, 10)                100       \n",
      "_________________________________________________________________\n",
      "activation_5 (Activation)    (None, 10)                0         \n",
      "=================================================================\n",
      "Total params: 69,841\n",
      "Trainable params: 69,841\n",
      "Non-trainable params: 0\n",
      "_________________________________________________________________\n"
     ]
    }
   ],
   "source": [
    "model.summary()"
   ]
  },
  {
   "cell_type": "code",
   "execution_count": 25,
   "metadata": {},
   "outputs": [
    {
     "name": "stdout",
     "output_type": "stream",
     "text": [
      "WARNING:tensorflow:From C:\\Anaconda3\\envs\\tensorflow\\lib\\site-packages\\tensorflow\\python\\ops\\math_ops.py:3066: to_int32 (from tensorflow.python.ops.math_ops) is deprecated and will be removed in a future version.\n",
      "Instructions for updating:\n",
      "Use tf.cast instead.\n",
      "Epoch 1/10\n",
      "60000/60000 [==============================] - 72s 1ms/step - loss: 0.5506 - acc: 0.8214\n",
      "Epoch 2/10\n",
      "60000/60000 [==============================] - 73s 1ms/step - loss: 0.0943 - acc: 0.9720\n",
      "Epoch 3/10\n",
      "60000/60000 [==============================] - 74s 1ms/step - loss: 0.0609 - acc: 0.9809\n",
      "Epoch 4/10\n",
      "60000/60000 [==============================] - 74s 1ms/step - loss: 0.0450 - acc: 0.9862\n",
      "Epoch 5/10\n",
      "60000/60000 [==============================] - 74s 1ms/step - loss: 0.0366 - acc: 0.9890\n",
      "Epoch 6/10\n",
      "60000/60000 [==============================] - 73s 1ms/step - loss: 0.0304 - acc: 0.9909\n",
      "Epoch 7/10\n",
      "60000/60000 [==============================] - 73s 1ms/step - loss: 0.0263 - acc: 0.9917\n",
      "Epoch 8/10\n",
      "60000/60000 [==============================] - 75s 1ms/step - loss: 0.0216 - acc: 0.9932\n",
      "Epoch 9/10\n",
      "60000/60000 [==============================] - 77s 1ms/step - loss: 0.0192 - acc: 0.9942\n",
      "Epoch 10/10\n",
      "60000/60000 [==============================] - 82s 1ms/step - loss: 0.0151 - acc: 0.9954\n"
     ]
    },
    {
     "data": {
      "text/plain": [
       "<keras.callbacks.History at 0x1c6cd048ef0>"
      ]
     },
     "execution_count": 25,
     "metadata": {},
     "output_type": "execute_result"
    }
   ],
   "source": [
    "model.fit(x_train, y_train, batch_size = 100, epochs = 10)\n",
    "#若遇到 Dead kernel要重開"
   ]
  },
  {
   "cell_type": "code",
   "execution_count": 26,
   "metadata": {},
   "outputs": [
    {
     "name": "stdout",
     "output_type": "stream",
     "text": [
      "10000/10000 [==============================] - 6s 631us/step\n",
      "loss: 0.03073244209108343\n",
      "accuracy: 0.9911\n"
     ]
    }
   ],
   "source": [
    "score = model.evaluate(x_test, y_test)\n",
    "print('loss:',score[0])\n",
    "print('accuracy:', score[1])"
   ]
  },
  {
   "cell_type": "markdown",
   "metadata": {},
   "source": [
    "# 製作第二個 CNN - model_1"
   ]
  },
  {
   "cell_type": "markdown",
   "metadata": {},
   "source": [
    "改變 Filter 大小"
   ]
  },
  {
   "cell_type": "code",
   "execution_count": 27,
   "metadata": {},
   "outputs": [],
   "source": [
    "#CONVOLUTION 3 TIMES\n",
    "#FILTER 8X8 \n",
    "#NO.1 FILTER > 18 → 36 → 54, FILTER 愈變愈多，因為最後是各類型的組合\n",
    "#DENSE NEURONS 9\n",
    "#OUTPUT NEURONS 10\n",
    "#MaxPool size =(2x2)"
   ]
  },
  {
   "cell_type": "code",
   "execution_count": 28,
   "metadata": {},
   "outputs": [
    {
     "name": "stdout",
     "output_type": "stream",
     "text": [
      "_________________________________________________________________\n",
      "Layer (type)                 Output Shape              Param #   \n",
      "=================================================================\n",
      "conv2d_4 (Conv2D)            (None, 28, 28, 18)        1170      \n",
      "_________________________________________________________________\n",
      "activation_6 (Activation)    (None, 28, 28, 18)        0         \n",
      "_________________________________________________________________\n",
      "max_pooling2d_4 (MaxPooling2 (None, 14, 14, 18)        0         \n",
      "_________________________________________________________________\n",
      "conv2d_5 (Conv2D)            (None, 14, 14, 36)        41508     \n",
      "_________________________________________________________________\n",
      "activation_7 (Activation)    (None, 14, 14, 36)        0         \n",
      "_________________________________________________________________\n",
      "max_pooling2d_5 (MaxPooling2 (None, 7, 7, 36)          0         \n",
      "_________________________________________________________________\n",
      "conv2d_6 (Conv2D)            (None, 7, 7, 54)          124470    \n",
      "_________________________________________________________________\n",
      "activation_8 (Activation)    (None, 7, 7, 54)          0         \n",
      "_________________________________________________________________\n",
      "max_pooling2d_6 (MaxPooling2 (None, 3, 3, 54)          0         \n",
      "_________________________________________________________________\n",
      "flatten_2 (Flatten)          (None, 486)               0         \n",
      "_________________________________________________________________\n",
      "dense_3 (Dense)              (None, 9)                 4383      \n",
      "_________________________________________________________________\n",
      "activation_9 (Activation)    (None, 9)                 0         \n",
      "_________________________________________________________________\n",
      "dense_4 (Dense)              (None, 10)                100       \n",
      "_________________________________________________________________\n",
      "activation_10 (Activation)   (None, 10)                0         \n",
      "=================================================================\n",
      "Total params: 171,631\n",
      "Trainable params: 171,631\n",
      "Non-trainable params: 0\n",
      "_________________________________________________________________\n"
     ]
    }
   ],
   "source": [
    "model_1 = Sequential()\n",
    "#第一次的Convolution \n",
    "#filter size =8x8, with 18 \n",
    "model_1.add(Conv2D(18,(8,8),padding = 'same', input_shape=(28,28,1)))\n",
    "model_1.add(Activation('relu'))\n",
    "#MaxPooling\n",
    "model_1.add(MaxPool2D(pool_size = (2,2)))\n",
    "\n",
    "#第二次的Convolution \n",
    "#filter size =8x8, with 36 \n",
    "model_1.add(Conv2D(36,(8,8),padding = 'same'))\n",
    "model_1.add(Activation('relu'))\n",
    "#MaxPooling\n",
    "model_1.add(MaxPool2D(pool_size = (2,2)))\n",
    "\n",
    "#第三次的Convolution \n",
    "#filter size =8x8, with 54 \n",
    "model_1.add(Conv2D(54,(8,8),padding = 'same'))\n",
    "model_1.add(Activation('relu'))\n",
    "#MaxPooling\n",
    "model_1.add(MaxPool2D(pool_size = (2,2)))\n",
    "\n",
    "#一層Dense\n",
    "#先拉平Flatten\n",
    "model_1.add(Flatten())\n",
    "model_1.add(Dense(9))\n",
    "model_1.add(Activation('relu'))\n",
    "\n",
    "#最後的Output層\n",
    "model_1.add(Dense(10))\n",
    "model_1.add(Activation('softmax'))\n",
    "\n",
    "#統整神經網路\n",
    "model_1.compile(loss = \"categorical_crossentropy\", optimizer = SGD(lr=0.07), metrics = ['accuracy'])\n",
    "\n",
    "model_1.summary()"
   ]
  },
  {
   "cell_type": "code",
   "execution_count": 29,
   "metadata": {},
   "outputs": [
    {
     "name": "stdout",
     "output_type": "stream",
     "text": [
      "Epoch 1/10\n",
      "60000/60000 [==============================] - 129s 2ms/step - loss: 0.4458 - acc: 0.8529\n",
      "Epoch 2/10\n",
      "60000/60000 [==============================] - 130s 2ms/step - loss: 0.0824 - acc: 0.9751\n",
      "Epoch 3/10\n",
      "60000/60000 [==============================] - 130s 2ms/step - loss: 0.0540 - acc: 0.9836\n",
      "Epoch 4/10\n",
      "60000/60000 [==============================] - 130s 2ms/step - loss: 0.0404 - acc: 0.9870\n",
      "Epoch 5/10\n",
      "60000/60000 [==============================] - 129s 2ms/step - loss: 0.0311 - acc: 0.9904\n",
      "Epoch 6/10\n",
      "60000/60000 [==============================] - 129s 2ms/step - loss: 0.0252 - acc: 0.9921\n",
      "Epoch 7/10\n",
      "60000/60000 [==============================] - 129s 2ms/step - loss: 0.0205 - acc: 0.9931\n",
      "Epoch 8/10\n",
      "60000/60000 [==============================] - 129s 2ms/step - loss: 0.0151 - acc: 0.9953\n",
      "Epoch 9/10\n",
      "60000/60000 [==============================] - 130s 2ms/step - loss: 0.0123 - acc: 0.9960\n",
      "Epoch 10/10\n",
      "60000/60000 [==============================] - 129s 2ms/step - loss: 0.0100 - acc: 0.9968\n"
     ]
    },
    {
     "data": {
      "text/plain": [
       "<keras.callbacks.History at 0x1c6cd3a2630>"
      ]
     },
     "execution_count": 29,
     "metadata": {},
     "output_type": "execute_result"
    }
   ],
   "source": [
    "model_1.fit(x_train, y_train, batch_size = 100, epochs = 10)"
   ]
  },
  {
   "cell_type": "code",
   "execution_count": 30,
   "metadata": {},
   "outputs": [
    {
     "name": "stdout",
     "output_type": "stream",
     "text": [
      "10000/10000 [==============================] - 7s 711us/step\n",
      "loss: 0.03226141093037004\n",
      "accuracy: 0.9902\n"
     ]
    }
   ],
   "source": [
    "score = model_1.evaluate(x_test, y_test)\n",
    "print('loss:',score[0])\n",
    "print('accuracy:', score[1])"
   ]
  },
  {
   "cell_type": "markdown",
   "metadata": {},
   "source": [
    "# 製作第三個 CNN - model_2"
   ]
  },
  {
   "cell_type": "markdown",
   "metadata": {},
   "source": [
    "改變 MaxPool size = 3x3"
   ]
  },
  {
   "cell_type": "code",
   "execution_count": 31,
   "metadata": {},
   "outputs": [],
   "source": [
    "#CONVOLUTION 3 TIMES\n",
    "#FILTER 5X5 \n",
    "#NO.1 FILTER > 18 → 36 → 54, FILTER 愈變愈多，因為最後是各類型的組合\n",
    "#DENSE NEURONS 9\n",
    "#OUTPUT NEURONS 10\n",
    "#MaxPool size =(3x3)"
   ]
  },
  {
   "cell_type": "code",
   "execution_count": 37,
   "metadata": {},
   "outputs": [
    {
     "name": "stdout",
     "output_type": "stream",
     "text": [
      "_________________________________________________________________\n",
      "Layer (type)                 Output Shape              Param #   \n",
      "=================================================================\n",
      "conv2d_19 (Conv2D)           (None, 28, 28, 18)        468       \n",
      "_________________________________________________________________\n",
      "activation_27 (Activation)   (None, 28, 28, 18)        0         \n",
      "_________________________________________________________________\n",
      "max_pooling2d_19 (MaxPooling (None, 9, 9, 18)          0         \n",
      "_________________________________________________________________\n",
      "conv2d_20 (Conv2D)           (None, 9, 9, 36)          16236     \n",
      "_________________________________________________________________\n",
      "activation_28 (Activation)   (None, 9, 9, 36)          0         \n",
      "_________________________________________________________________\n",
      "max_pooling2d_20 (MaxPooling (None, 3, 3, 36)          0         \n",
      "_________________________________________________________________\n",
      "conv2d_21 (Conv2D)           (None, 3, 3, 54)          48654     \n",
      "_________________________________________________________________\n",
      "activation_29 (Activation)   (None, 3, 3, 54)          0         \n",
      "_________________________________________________________________\n",
      "max_pooling2d_21 (MaxPooling (None, 1, 1, 54)          0         \n",
      "_________________________________________________________________\n",
      "flatten_5 (Flatten)          (None, 54)                0         \n",
      "_________________________________________________________________\n",
      "dense_9 (Dense)              (None, 9)                 495       \n",
      "_________________________________________________________________\n",
      "activation_30 (Activation)   (None, 9)                 0         \n",
      "_________________________________________________________________\n",
      "dense_10 (Dense)             (None, 10)                100       \n",
      "_________________________________________________________________\n",
      "activation_31 (Activation)   (None, 10)                0         \n",
      "=================================================================\n",
      "Total params: 65,953\n",
      "Trainable params: 65,953\n",
      "Non-trainable params: 0\n",
      "_________________________________________________________________\n"
     ]
    }
   ],
   "source": [
    "model_2 = Sequential()\n",
    "#第一次的Convolution \n",
    "#filter size =5x5, with 18 \n",
    "model_2.add(Conv2D(18,(5,5),padding = 'same', input_shape=(28,28,1)))\n",
    "model_2.add(Activation('relu'))\n",
    "#MaxPooling\n",
    "model_2.add(MaxPool2D(pool_size = (3,3)))\n",
    "\n",
    "#第二次的Convolution \n",
    "#filter size =5x5, with 36 \n",
    "model_2.add(Conv2D(36,(5,5),padding = 'same'))\n",
    "model_2.add(Activation('relu'))\n",
    "#MaxPooling\n",
    "model_2.add(MaxPool2D(pool_size = (3,3)))\n",
    "\n",
    "#第三次的Convolution \n",
    "#filter size =5x5, with 54 \n",
    "model_2.add(Conv2D(54,(5,5),padding = 'same'))\n",
    "model_2.add(Activation('relu'))\n",
    "#MaxPooling\n",
    "model_2.add(MaxPool2D(pool_size = (3,3)))\n",
    "\n",
    "#一層Dense\n",
    "#先拉平Flatten\n",
    "model_2.add(Flatten())\n",
    "model_2.add(Dense(9))\n",
    "model_2.add(Activation('relu'))\n",
    "\n",
    "#最後的Output層\n",
    "model_2.add(Dense(10))\n",
    "model_2.add(Activation('softmax'))\n",
    "\n",
    "#統整神經網路\n",
    "model_2.compile(loss = \"categorical_crossentropy\", optimizer = SGD(lr=0.07), metrics = ['accuracy'])\n",
    "\n",
    "model_2.summary()"
   ]
  },
  {
   "cell_type": "code",
   "execution_count": 38,
   "metadata": {},
   "outputs": [
    {
     "name": "stdout",
     "output_type": "stream",
     "text": [
      "Epoch 1/10\n",
      "60000/60000 [==============================] - 31s 521us/step - loss: 0.7287 - acc: 0.7602\n",
      "Epoch 2/10\n",
      "60000/60000 [==============================] - 33s 554us/step - loss: 0.1031 - acc: 0.9691\n",
      "Epoch 3/10\n",
      "60000/60000 [==============================] - 35s 586us/step - loss: 0.0694 - acc: 0.9782\n",
      "Epoch 4/10\n",
      "60000/60000 [==============================] - 36s 602us/step - loss: 0.0527 - acc: 0.9835\n",
      "Epoch 5/10\n",
      "60000/60000 [==============================] - 38s 629us/step - loss: 0.0437 - acc: 0.9864\n",
      "Epoch 6/10\n",
      "60000/60000 [==============================] - 39s 646us/step - loss: 0.0370 - acc: 0.9887\n",
      "Epoch 7/10\n",
      "60000/60000 [==============================] - 39s 645us/step - loss: 0.0318 - acc: 0.9900\n",
      "Epoch 8/10\n",
      "60000/60000 [==============================] - 39s 645us/step - loss: 0.0268 - acc: 0.9917\n",
      "Epoch 9/10\n",
      "60000/60000 [==============================] - 39s 643us/step - loss: 0.0231 - acc: 0.9930\n",
      "Epoch 10/10\n",
      "60000/60000 [==============================] - 39s 643us/step - loss: 0.0208 - acc: 0.9935\n"
     ]
    },
    {
     "data": {
      "text/plain": [
       "<keras.callbacks.History at 0x1c6ec4f1ef0>"
      ]
     },
     "execution_count": 38,
     "metadata": {},
     "output_type": "execute_result"
    }
   ],
   "source": [
    "model_2.fit(x_train, y_train, batch_size = 100, epochs = 10)"
   ]
  },
  {
   "cell_type": "code",
   "execution_count": 39,
   "metadata": {},
   "outputs": [
    {
     "name": "stdout",
     "output_type": "stream",
     "text": [
      "10000/10000 [==============================] - 3s 254us/step\n",
      "loss: 0.03359456432157312\n",
      "accuracy: 0.9893\n"
     ]
    }
   ],
   "source": [
    "score = model_2.evaluate(x_test, y_test)\n",
    "print('loss:',score[0])\n",
    "print('accuracy:', score[1])"
   ]
  },
  {
   "cell_type": "markdown",
   "metadata": {},
   "source": [
    "# 小結"
   ]
  },
  {
   "cell_type": "markdown",
   "metadata": {},
   "source": [
    "1.第一個模型，是依照上課的CNN，增加每層Filter的數量，增加為(18, 36, 54)。Accuracy 比上課的結果要好。\n"
   ]
  },
  {
   "cell_type": "markdown",
   "metadata": {},
   "source": [
    "    第一個模型，也將與第二、第三模型做比較"
   ]
  },
  {
   "cell_type": "markdown",
   "metadata": {},
   "source": [
    "2.第二個模型改變Filter size to 8x8，雖然跟'模型一'比起來，在 training data 時，accuracy較快達到 99% 。"
   ]
  },
  {
   "cell_type": "markdown",
   "metadata": {},
   "source": [
    "    但在使用 testing data 測試後，accuracy 卻比'模型一'低了些。"
   ]
  },
  {
   "cell_type": "markdown",
   "metadata": {},
   "source": [
    "3.第三個模型改變MaxPooling size to 3x3，也就是說 MaxPool size跟'模型一'比起來，size是變大的。"
   ]
  },
  {
   "cell_type": "markdown",
   "metadata": {},
   "source": [
    "    然而在 training data 和 testing data 時，accuracy 的表現比'模型一'來得差。"
   ]
  }
 ],
 "metadata": {
  "kernelspec": {
   "display_name": "Python 3",
   "language": "python",
   "name": "python3"
  },
  "language_info": {
   "codemirror_mode": {
    "name": "ipython",
    "version": 3
   },
   "file_extension": ".py",
   "mimetype": "text/x-python",
   "name": "python",
   "nbconvert_exporter": "python",
   "pygments_lexer": "ipython3",
   "version": "3.5.6"
  }
 },
 "nbformat": 4,
 "nbformat_minor": 2
}
